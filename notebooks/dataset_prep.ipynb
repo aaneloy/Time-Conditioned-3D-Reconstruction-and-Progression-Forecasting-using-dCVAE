{
 "cells": [
  {
   "cell_type": "markdown",
   "id": "d96c280b",
   "metadata": {},
   "source": [
    "# Data Preparation Notebook\n",
    "This notebook downloads, extracts, and preprocesses the IXI T1 MRI dataset automatically."
   ]
  },
  {
   "cell_type": "code",
   "execution_count": null,
   "id": "219b88e7",
   "metadata": {},
   "outputs": [],
   "source": [
    "%%bash\n",
    "pip install requests nibabel tqdm"
   ]
  },
  {
   "cell_type": "code",
   "execution_count": null,
   "id": "7f8bc106",
   "metadata": {},
   "outputs": [],
   "source": [
    "import os\n",
    "import requests\n",
    "import tarfile\n",
    "from tqdm import tqdm\n",
    "import nibabel as nib\n",
    "import numpy as np\n",
    "\n",
    "def download_file(url, dest_path):\n",
    "    if os.path.exists(dest_path):\n",
    "        print(f\"Skipping download, {dest_path} already exists.\")\n",
    "        return\n",
    "    os.makedirs(os.path.dirname(dest_path), exist_ok=True)\n",
    "    resp = requests.get(url, stream=True)\n",
    "    total = int(resp.headers.get('content-length', 0))\n",
    "    with open(dest_path, 'wb') as f, tqdm(total=total, unit='B', unit_scale=True) as pbar:\n",
    "        for chunk in resp.iter_content(chunk_size=1024):\n",
    "            if chunk:\n",
    "                f.write(chunk)\n",
    "                pbar.update(len(chunk))\n",
    "\n",
    "def extract_archive(archive_path, out_dir):\n",
    "    if archive_path.endswith(('.tar.gz', '.tgz')):\n",
    "        os.makedirs(out_dir, exist_ok=True)\n",
    "        with tarfile.open(archive_path, 'r:gz') as tar:\n",
    "            tar.extractall(path=out_dir)\n",
    "        print(f\"Extracted {archive_path} to {out_dir}\")\n",
    "\n",
    "def center_crop_3d(image, size=128):\n",
    "    # Assumes image is a 3D numpy array\n",
    "    z, y, x = image.shape\n",
    "    cz, cy, cx = z // 2, y // 2, x // 2\n",
    "    half = size // 2\n",
    "    return image[cz-half:cz+half, cy-half:cy+half, cx-half:cx+half]\n",
    "\n",
    "def preprocess_nifti(input_dir, output_dir, size=128):\n",
    "    os.makedirs(output_dir, exist_ok=True)\n",
    "    for fname in os.listdir(input_dir):\n",
    "        if fname.endswith('.nii.gz'):\n",
    "            path = os.path.join(input_dir, fname)\n",
    "            img = nib.load(path).get_fdata().astype(np.float32)\n",
    "            img = (img - img.mean()) / img.std()\n",
    "            img_crop = center_crop_3d(img, size)\n",
    "            out_path = os.path.join(output_dir, fname.replace('.nii.gz', '_proc.nii.gz'))\n",
    "            nib.save(nib.Nifti1Image(img_crop, np.eye(4)), out_path)\n",
    "            print(f\"Preprocessed and saved {out_path}\")\n"
   ]
  },
  {
   "cell_type": "code",
   "execution_count": null,
   "id": "123a1331",
   "metadata": {},
   "outputs": [],
   "source": [
    "# Example: Download & preprocess a single IXI T1 volume\n",
    "URL = 'https://brain-development.org/ixi-datasets/T1/IXI001-T1.nii.gz'\n",
    "RAW_PATH = 'data/raw/IXI001-T1.nii.gz'\n",
    "PROCESSED_DIR = 'data/processed/IXI'\n",
    "\n",
    "download_file(URL, RAW_PATH)\n",
    "# IXI T1 files are not in an archive, so skip extract_archive for .nii.gz\n",
    "os.makedirs('data/raw', exist_ok=True)\n",
    "preprocess_nifti('data/raw', PROCESSED_DIR)\n"
   ]
  }
 ],
 "metadata": {},
 "nbformat": 4,
 "nbformat_minor": 5
}
